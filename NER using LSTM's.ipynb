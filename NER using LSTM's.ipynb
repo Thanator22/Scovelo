{
 "cells": [
  {
   "cell_type": "markdown",
   "execution_count": null,
   "metadata": {
    "id": "fdo8oAodagwo"
   },
   "source": [
    "### Task 1: Project Overview and Import Modules"
   ]
  },
  {
   "cell_type": "code",
   "execution_count": 1,
   "metadata": {
    "id": "oLK7Y1jiNXDa",
    "outputId": "0f319464-ee49-4035-f6fb-8396f488c41f"
   },
   "outputs": [
    {
     "name": "stdout",
     "output_type": "stream",
     "text": [
      "Tensorflow version: 2.2.0\n",
      "GPU detected: []\n"
     ]
    }
   ],
   "source": [
    "%matplotlib inline\n",
    "import matplotlib.pyplot as plt\n",
    "import pandas as pd\n",
    "import numpy as np\n",
    "np.random.seed(0)\n",
    "plt.style.use(\"ggplot\")\n",
    "\n",
    "import tensorflow as tf\n",
    "print('Tensorflow version:', tf.__version__)\n",
    "print('GPU detected:', tf.config.list_physical_devices('GPU'))"
   ]
  },
  {
   "cell_type": "markdown",
   "execution_count": null,
   "metadata": {
    "id": "4N_AW6lMbB5N"
   },
   "source": [
    "### Task 2: Load and Explore the NER Dataset"
   ]
  },
  {
   "cell_type": "code",
   "execution_count": 2,
   "metadata": {
    "id": "mCKmz4SAbI_m",
    "outputId": "a03b1aed-dc60-4f03-cb06-19e440fa6367"
   },
   "outputs": [],
   "source": [
    "data = pd.read_csv(r\"../input/clientdat/UTPBatchModified_final.csv\",encoding  ='ISO-8859-1')\n",
    "for i in range(1,18):\n",
    "    data=data.drop(['ATTRIBUTE_NAME_'+str(i)], axis = 1)\n",
    "data=data.drop(['NOUN'], axis = 1)\n",
    "data=data.drop(['MFR_NAME_1'], axis = 1)\n",
    "data=data.drop(['COMMENTS'], axis = 1)\n",
    "data=data.drop(['STATUS (CLEANSED/HOLD/ENRICHED)'], axis = 1)\n",
    "data=data.drop(['Mfr/Vendor_Remarks'], axis = 1)"
   ]
  },
  {
   "cell_type": "code",
   "execution_count": 3,
   "metadata": {},
   "outputs": [],
   "source": [
    "for i in range(0,(len(data))):\n",
    "    if (data['STANDARDIZED_VALUE_2'].loc[i][-2:]!='IN' and data['STANDARDIZED_VALUE_2'].loc[i]!='-'):\n",
    "        data['STANDARDIZED_VALUE_2'].loc[i]=data['STANDARDIZED_VALUE_2'].loc[i]+' IN'\n",
    "    elif(data['STANDARDIZED_VALUE_2'].loc[i]== '-'):\n",
    "        data['STANDARDIZED_VALUE_2'].loc[i]=data['STANDARDIZED_VALUE_2'].loc[i]+' IN'\n",
    "    elif (data['STANDARDIZED_VALUE_2'].loc[i][-2:]=='IN'):\n",
    "        data['STANDARDIZED_VALUE_2'].loc[i]=data['STANDARDIZED_VALUE_2'].loc[i][:-2]+'-IN'\n",
    "    elif (data['STANDARDIZED_VALUE_2'].loc[i][-2:]=='MM'):\n",
    "        data['STANDARDIZED_VALUE_2'].loc[i]=data['STANDARDIZED_VALUE_2'].loc[i][:-2]+'-MM'\n",
    "    elif (data['STANDARDIZED_VALUE_10'].loc[i][-2:]!='IN' and data['STANDARDIZED_VALUE_10'].loc[i]!='-'):\n",
    "        data['STANDARDIZED_VALUE_10'].loc[i]=data['STANDARDIZED_VALUE_10'].loc[i]+'_IN'\n",
    "    elif(data['STANDARDIZED_VALUE_10'].loc[i]== '-'):\n",
    "        data['STANDARDIZED_VALUE_10'].loc[i]='_IN'\n",
    "    elif (data['STANDARDIZED_VALUE_10'].loc[i][-2:]=='IN'):\n",
    "        data['STANDARDIZED_VALUE_10'].loc[i]=data['STANDARDIZED_VALUE_10'].loc[i][:-2]+'_IN'\n",
    "    elif (data['STANDARDIZED_VALUE_10'].loc[i][-2:]=='MM'):\n",
    "        data['STANDARDIZED_VALUE_10'].loc[i]=data['STANDARDIZED_VALUE_2'].loc[i][:-2]+'_MM'"
   ]
  },
  {
   "cell_type": "code",
   "execution_count": 4,
   "metadata": {},
   "outputs": [
    {
     "data": {
      "text/plain": [
       "(14144, 3)"
      ]
     },
     "execution_count": 4,
     "metadata": {},
     "output_type": "execute_result"
    }
   ],
   "source": [
    "test_data=pd.DataFrame()\n",
    "for i in range(0,len(data)):\n",
    "    data1 = data.iloc[i].reset_index()\n",
    "    for j in range(len(data.iloc[i])):\n",
    "        if(data1[i][j]=='-'):\n",
    "            data1=data1.drop(j)\n",
    "    t_data=pd.DataFrame([{'Words' : 'wrd', 'Tags' : 'tg'}])\n",
    "    t_data=t_data['Words'].append((data1))\n",
    "    t_data=t_data.drop(0)\n",
    "    t_data=t_data.drop(1)\n",
    "    t_data=t_data.rename(columns={'index': 'Tags', i :'Words'})\n",
    "    t_data=t_data.reset_index()[['Tags','Words']]\n",
    "    l = [(i+1) for s in range(len(t_data))]\n",
    "    Sentence=pd.Series(l)\n",
    "    t_data['Sentence #']=Sentence\n",
    "    test_data=test_data.append(t_data)\n",
    "test_data=test_data.reset_index()[['Tags','Words','Sentence #']]\n",
    "test_data['Tags']=test_data['Tags'].replace({'MFR_NAME_1':'MFR_NAME'})\n",
    "test_data.shape    "
   ]
  },
  {
   "cell_type": "code",
   "execution_count": 5,
   "metadata": {},
   "outputs": [],
   "source": [
    "df2 = pd.DataFrame({\"Tags\":['O'], \n",
    "                    \"Words\":['None'], 'Sentence #':[1007]})\n",
    "test_data=test_data.append(df2)\n",
    "test_data=test_data.reset_index()[['Tags','Words','Sentence #']]"
   ]
  },
  {
   "cell_type": "code",
   "execution_count": 6,
   "metadata": {},
   "outputs": [
    {
     "name": "stdout",
     "output_type": "stream",
     "text": [
      "Unique words in corpus: 3091\n",
      "Unique tags in corpus: 27\n"
     ]
    }
   ],
   "source": [
    "words = list(set(test_data[\"Words\"].values))\n",
    "words.append(\"ENDPAD\")\n",
    "num_words = len(words)\n",
    "tags = list(set(test_data[\"Tags\"].values))\n",
    "num_tags = len(tags)\n",
    "print(\"Unique words in corpus:\", test_data['Words'].nunique())\n",
    "print(\"Unique tags in corpus:\", test_data['Tags'].nunique())"
   ]
  },
  {
   "cell_type": "markdown",
   "execution_count": null,
   "metadata": {
    "id": "M9D9JEzUbdnS"
   },
   "source": [
    "### Task 3: Retrieve Sentences and Corresponsing Tags"
   ]
  },
  {
   "cell_type": "code",
   "execution_count": 7,
   "metadata": {
    "id": "VdJst_g5NYY_"
   },
   "outputs": [],
   "source": [
    "class SentenceGetter(object):\n",
    "    def __init__(self, data):\n",
    "        self.n_sent = 1\n",
    "        self.data = data\n",
    "        self.empty = False\n",
    "        agg_func = lambda s: [(w, t) for w, t in zip(s[\"Words\"].values.tolist(), s[\"Tags\"].values.tolist())]\n",
    "        self.grouped = self.data.groupby(\"Sentence #\").apply(agg_func)\n",
    "        self.sentences = [s for s in self.grouped]\n",
    "    \n",
    "    def get_next(self):\n",
    "        try:\n",
    "            s = self.grouped[\"Sentence: {}\".format(self.n_sent)]\n",
    "            self.n_sent += 1\n",
    "            return s\n",
    "        except:\n",
    "            return None"
   ]
  },
  {
   "cell_type": "code",
   "execution_count": 8,
   "metadata": {
    "id": "nMUQLppspkPj"
   },
   "outputs": [],
   "source": [
    "getter = SentenceGetter(test_data)\n",
    "sentences = getter.sentences"
   ]
  },
  {
   "cell_type": "markdown",
   "execution_count": null,
   "metadata": {
    "id": "ldhuogX4eHE4"
   },
   "source": [
    "### Task 4: Define Mappings between Sentences and Tags"
   ]
  },
  {
   "cell_type": "code",
   "execution_count": 9,
   "metadata": {
    "id": "SvENHO18pkaQ"
   },
   "outputs": [],
   "source": [
    "word2idx = {w: i + 1 for i, w in enumerate(words)}\n",
    "tag2idx = {t: i for i, t in enumerate(tags)}"
   ]
  },
  {
   "cell_type": "markdown",
   "execution_count": null,
   "metadata": {
    "id": "zXzE0MdsemCH"
   },
   "source": [
    "### Task 5: Padding Input Sentences and Creating Train/Test Splits"
   ]
  },
  {
   "cell_type": "code",
   "execution_count": 10,
   "metadata": {
    "id": "R44g5T7NYp_H",
    "outputId": "135a85a6-7a85-4b16-a8eb-3ad7bd4da5b6"
   },
   "outputs": [
    {
     "data": {
      "image/png": "[encoded data removed]",
      "text/plain": [
       "<Figure size 432x288 with 1 Axes>"
      ]
     },
     "metadata": {},
     "output_type": "display_data"
    }
   ],
   "source": [
    "plt.hist([len(s) for s in sentences], bins=50)\n",
    "plt.show()"
   ]
  },
  {
   "cell_type": "code",
   "execution_count": 11,
   "metadata": {
    "id": "FS4u3CRkpkc1"
   },
   "outputs": [],
   "source": [
    "from tensorflow.keras.preprocessing.sequence import pad_sequences\n",
    "\n",
    "max_len = 30\n",
    "\n",
    "X = [[word2idx[w[0]] for w in s] for s in sentences]\n",
    "\n",
    "\n",
    "y = [[tag2idx[w[1]] for w in s] for s in sentences]\n"
   ]
  },
  {
   "cell_type": "code",
   "execution_count": 12,
   "metadata": {},
   "outputs": [],
   "source": [
    "X = pad_sequences(maxlen=max_len, sequences=X, padding=\"post\", value=num_words-1)\n",
    "y = pad_sequences(maxlen=max_len, sequences=y, padding=\"post\", value=tag2idx[\"O\"])"
   ]
  },
  {
   "cell_type": "code",
   "execution_count": 13,
   "metadata": {
    "id": "q7VfnnkXpkfS"
   },
   "outputs": [],
   "source": [
    "from sklearn.model_selection import train_test_split\n",
    "x_train, x_test, y_train, y_test = train_test_split(X, y, test_size=0.2, random_state=1)"
   ]
  },
  {
   "cell_type": "markdown",
   "execution_count": null,
   "metadata": {
    "id": "P-r4PR85hpoF"
   },
   "source": [
    "### Task 6: Build and Compile a Bidirectional LSTM Model"
   ]
  },
  {
   "cell_type": "code",
   "execution_count": 14,
   "metadata": {
    "id": "Y2vM7IkXpkiH"
   },
   "outputs": [],
   "source": [
    "from tensorflow.keras import Model, Input\n",
    "from tensorflow.keras.layers import LSTM, Embedding, Dense\n",
    "from tensorflow.keras.layers import TimeDistributed, SpatialDropout1D, Bidirectional"
   ]
  },
  {
   "cell_type": "code",
   "execution_count": 15,
   "metadata": {
    "id": "Aee3mCZ3pkkv",
    "outputId": "b7fb911b-21d1-43e6-adc9-bb2d8bdfb921"
   },
   "outputs": [
    {
     "name": "stdout",
     "output_type": "stream",
     "text": [
      "Model: \"model\"\n",
      "_________________________________________________________________\n",
      "Layer (type)                 Output Shape              Param #   \n",
      "=================================================================\n",
      "input_1 (InputLayer)         [(None, 30)]              0         \n",
      "_________________________________________________________________\n",
      "embedding (Embedding)        (None, 30, 30)            92760     \n",
      "_________________________________________________________________\n",
      "spatial_dropout1d (SpatialDr (None, 30, 30)            0         \n",
      "_________________________________________________________________\n",
      "bidirectional (Bidirectional (None, 30, 200)           104800    \n",
      "_________________________________________________________________\n",
      "time_distributed (TimeDistri (None, 30, 27)            5427      \n",
      "=================================================================\n",
      "Total params: 202,987\n",
      "Trainable params: 202,987\n",
      "Non-trainable params: 0\n",
      "_________________________________________________________________\n"
     ]
    }
   ],
   "source": [
    "input_word = Input(shape=(max_len,))\n",
    "model = Embedding(input_dim=num_words, output_dim=30, input_length=max_len)(input_word)\n",
    "model = SpatialDropout1D(0.1)(model)\n",
    "model = Bidirectional(LSTM(units=100, return_sequences=True, recurrent_dropout=0.1))(model)\n",
    "out = TimeDistributed(Dense(num_tags, activation=\"softmax\"))(model)\n",
    "model = Model(input_word, out)\n",
    "model.summary()"
   ]
  },
  {
   "cell_type": "code",
   "execution_count": 16,
   "metadata": {
    "id": "kOBpQg26pkqh"
   },
   "outputs": [],
   "source": [
    "model.compile(optimizer=\"adam\",\n",
    "              loss=\"sparse_categorical_crossentropy\",\n",
    "              metrics=[\"accuracy\"])"
   ]
  },
  {
   "cell_type": "markdown",
   "execution_count": null,
   "metadata": {
    "id": "My0tL0cciMXQ"
   },
   "source": [
    "### Task 7: Train the Model"
   ]
  },
  {
   "cell_type": "code",
   "execution_count": 17,
   "metadata": {},
   "outputs": [],
   "source": [
    "from tensorflow.keras.callbacks import ModelCheckpoint, EarlyStopping"
   ]
  },
  {
   "cell_type": "code",
   "execution_count": 18,
   "metadata": {},
   "outputs": [
    {
     "name": "stdout",
     "output_type": "stream",
     "text": [
      "Epoch 1/40\n",
      "26/26 [==============================] - 2s 83ms/step - loss: 2.5072 - accuracy: 0.5142 - val_loss: 1.7862 - val_accuracy: 0.5226\n",
      "Epoch 2/40\n",
      "26/26 [==============================] - 2s 61ms/step - loss: 1.6280 - accuracy: 0.5452 - val_loss: 1.5475 - val_accuracy: 0.5556\n",
      "Epoch 3/40\n",
      "26/26 [==============================] - 2s 65ms/step - loss: 1.4127 - accuracy: 0.5669 - val_loss: 1.3506 - val_accuracy: 0.5569\n",
      "Epoch 4/40\n",
      "26/26 [==============================] - 2s 60ms/step - loss: 1.2205 - accuracy: 0.6095 - val_loss: 1.1869 - val_accuracy: 0.6036\n",
      "Epoch 5/40\n",
      "26/26 [==============================] - 2s 59ms/step - loss: 1.0662 - accuracy: 0.6478 - val_loss: 1.0597 - val_accuracy: 0.6556\n",
      "Epoch 6/40\n",
      "26/26 [==============================] - 2s 59ms/step - loss: 0.9563 - accuracy: 0.6758 - val_loss: 1.0072 - val_accuracy: 0.6165\n",
      "Epoch 7/40\n",
      "26/26 [==============================] - 2s 59ms/step - loss: 0.8878 - accuracy: 0.6910 - val_loss: 0.9147 - val_accuracy: 0.6809\n",
      "Epoch 8/40\n",
      "26/26 [==============================] - 2s 59ms/step - loss: 0.8253 - accuracy: 0.7081 - val_loss: 0.9020 - val_accuracy: 0.6764\n",
      "Epoch 9/40\n",
      "26/26 [==============================] - 2s 63ms/step - loss: 0.7868 - accuracy: 0.7200 - val_loss: 0.9018 - val_accuracy: 0.6538\n",
      "Epoch 10/40\n",
      "26/26 [==============================] - 2s 60ms/step - loss: 0.7473 - accuracy: 0.7364 - val_loss: 0.7896 - val_accuracy: 0.7470\n",
      "Epoch 11/40\n",
      "26/26 [==============================] - 2s 58ms/step - loss: 0.6982 - accuracy: 0.7624 - val_loss: 0.7553 - val_accuracy: 0.7551\n",
      "Epoch 12/40\n",
      "26/26 [==============================] - 2s 59ms/step - loss: 0.6649 - accuracy: 0.7756 - val_loss: 0.7542 - val_accuracy: 0.7226\n",
      "Epoch 13/40\n",
      "26/26 [==============================] - 2s 68ms/step - loss: 0.6411 - accuracy: 0.7859 - val_loss: 0.7138 - val_accuracy: 0.7672\n",
      "Epoch 14/40\n",
      "26/26 [==============================] - 2s 60ms/step - loss: 0.6082 - accuracy: 0.7977 - val_loss: 0.6845 - val_accuracy: 0.7764\n",
      "Epoch 15/40\n",
      "26/26 [==============================] - 2s 62ms/step - loss: 0.5829 - accuracy: 0.8112 - val_loss: 0.6580 - val_accuracy: 0.7827\n",
      "Epoch 16/40\n",
      "26/26 [==============================] - 2s 66ms/step - loss: 0.5657 - accuracy: 0.8108 - val_loss: 0.6783 - val_accuracy: 0.7606\n",
      "Epoch 17/40\n",
      "26/26 [==============================] - 2s 61ms/step - loss: 0.5479 - accuracy: 0.8176 - val_loss: 0.6117 - val_accuracy: 0.7998\n",
      "Epoch 18/40\n",
      "26/26 [==============================] - 2s 60ms/step - loss: 0.5136 - accuracy: 0.8381 - val_loss: 0.5866 - val_accuracy: 0.7972\n",
      "Epoch 19/40\n",
      "26/26 [==============================] - 2s 62ms/step - loss: 0.4906 - accuracy: 0.8441 - val_loss: 0.5570 - val_accuracy: 0.8216\n",
      "Epoch 20/40\n",
      "26/26 [==============================] - 2s 59ms/step - loss: 0.4582 - accuracy: 0.8590 - val_loss: 0.5335 - val_accuracy: 0.8282\n",
      "Epoch 21/40\n",
      "26/26 [==============================] - 2s 60ms/step - loss: 0.4355 - accuracy: 0.8667 - val_loss: 0.5216 - val_accuracy: 0.8304\n",
      "Epoch 22/40\n",
      "26/26 [==============================] - 2s 65ms/step - loss: 0.4062 - accuracy: 0.8800 - val_loss: 0.5045 - val_accuracy: 0.8320\n",
      "Epoch 23/40\n",
      "26/26 [==============================] - 2s 58ms/step - loss: 0.3807 - accuracy: 0.8896 - val_loss: 0.4937 - val_accuracy: 0.8262\n",
      "Epoch 24/40\n",
      "26/26 [==============================] - 2s 59ms/step - loss: 0.3584 - accuracy: 0.8956 - val_loss: 0.4299 - val_accuracy: 0.8607\n",
      "Epoch 25/40\n",
      "26/26 [==============================] - 2s 59ms/step - loss: 0.3336 - accuracy: 0.9048 - val_loss: 0.4440 - val_accuracy: 0.8426\n",
      "Epoch 26/40\n",
      "26/26 [==============================] - 2s 59ms/step - loss: 0.3108 - accuracy: 0.9107 - val_loss: 0.3813 - val_accuracy: 0.8843\n",
      "Epoch 27/40\n",
      "26/26 [==============================] - 2s 59ms/step - loss: 0.2804 - accuracy: 0.9241 - val_loss: 0.3677 - val_accuracy: 0.8820\n",
      "Epoch 28/40\n",
      "26/26 [==============================] - 2s 59ms/step - loss: 0.2717 - accuracy: 0.9253 - val_loss: 0.3494 - val_accuracy: 0.8937\n",
      "Epoch 29/40\n",
      "26/26 [==============================] - 2s 62ms/step - loss: 0.2558 - accuracy: 0.9296 - val_loss: 0.3053 - val_accuracy: 0.9135\n",
      "Epoch 30/40\n",
      "26/26 [==============================] - 2s 59ms/step - loss: 0.2285 - accuracy: 0.9415 - val_loss: 0.2910 - val_accuracy: 0.9188\n",
      "Epoch 31/40\n",
      "26/26 [==============================] - 2s 59ms/step - loss: 0.2099 - accuracy: 0.9466 - val_loss: 0.3073 - val_accuracy: 0.9025\n",
      "Epoch 32/40\n",
      "26/26 [==============================] - 2s 59ms/step - loss: 0.1960 - accuracy: 0.9504 - val_loss: 0.2633 - val_accuracy: 0.9223\n",
      "Epoch 33/40\n",
      "26/26 [==============================] - 2s 59ms/step - loss: 0.1774 - accuracy: 0.9563 - val_loss: 0.2524 - val_accuracy: 0.9310\n",
      "Epoch 34/40\n",
      "26/26 [==============================] - 2s 59ms/step - loss: 0.1645 - accuracy: 0.9617 - val_loss: 0.2388 - val_accuracy: 0.9314\n",
      "Epoch 35/40\n",
      "26/26 [==============================] - 2s 61ms/step - loss: 0.1488 - accuracy: 0.9667 - val_loss: 0.2582 - val_accuracy: 0.9144\n",
      "Epoch 36/40\n",
      "26/26 [==============================] - 2s 59ms/step - loss: 0.1397 - accuracy: 0.9670 - val_loss: 0.2198 - val_accuracy: 0.9361\n",
      "Epoch 37/40\n",
      "26/26 [==============================] - 2s 59ms/step - loss: 0.1303 - accuracy: 0.9696 - val_loss: 0.2213 - val_accuracy: 0.9350\n",
      "Epoch 38/40\n",
      "26/26 [==============================] - 2s 59ms/step - loss: 0.1224 - accuracy: 0.9720 - val_loss: 0.2046 - val_accuracy: 0.9444\n",
      "Epoch 39/40\n",
      "26/26 [==============================] - 2s 59ms/step - loss: 0.1083 - accuracy: 0.9766 - val_loss: 0.2021 - val_accuracy: 0.9457\n",
      "Epoch 40/40\n",
      "26/26 [==============================] - 2s 59ms/step - loss: 0.1119 - accuracy: 0.9722 - val_loss: 0.2061 - val_accuracy: 0.9363\n",
      "CPU times: user 3min 40s, sys: 12.7 s, total: 3min 53s\n",
      "Wall time: 1min 10s\n"
     ]
    }
   ],
   "source": [
    "%%time\n",
    "\n",
    "chkpt = ModelCheckpoint(\"model_weights.h5\", monitor='val_loss',verbose=1, save_best_only=True, save_weights_only=True, mode='min')\n",
    "early_stopping = EarlyStopping(monitor='val_accuracy', min_delta=0, patience=1, verbose=0, mode='max', baseline=None, restore_best_weights=False)\n",
    "history = model.fit(x=x_train,y=y_train,validation_data=(x_test,y_test),batch_size=32,epochs=40,verbose=1)"
   ]
  },
  {
   "cell_type": "markdown",
   "execution_count": null,
   "metadata": {
    "id": "2nwnnF0ziU3B"
   },
   "source": [
    "### Task 8: Evaluate Named Entity Recognition Model"
   ]
  },
  {
   "cell_type": "code",
   "execution_count": 19,
   "metadata": {
    "id": "6euqX7UHplG7",
    "outputId": "7222c24c-52c5-454b-a5d4-03d6df4173f0"
   },
   "outputs": [
    {
     "name": "stdout",
     "output_type": "stream",
     "text": [
      "7/7 [==============================] - 0s 7ms/step - loss: 0.2061 - accuracy: 0.9363\n"
     ]
    },
    {
     "data": {
      "text/plain": [
       "[0.20605681836605072, 0.9363036155700684]"
      ]
     },
     "execution_count": 19,
     "metadata": {},
     "output_type": "execute_result"
    }
   ],
   "source": [
    "model.evaluate(x_test, y_test)"
   ]
  },
  {
   "cell_type": "code",
   "execution_count": 20,
   "metadata": {
    "id": "Tyg4mKOVplJ-",
    "outputId": "59e897c3-cb77-4dc2-a239-dea2c94eec42"
   },
   "outputs": [
    {
     "name": "stdout",
     "output_type": "stream",
     "text": [
      "Word           True \t Pred\n",
      "\n",
      "------------------------------\n",
      "PARKER-HANNIFINMFR_NAME\tMFR_NAME\n",
      "D31VW004C4NYW3AMFR_P/N\tMFR_NAME\n",
      "D31VW004C4NYW3AMFR_P/N.1\tMFR_P/N\n",
      "HYDRADYNELLC   ADDITIONAL_MFR_VEND_AND_P/N\tMFR_P/N.1\n",
      "CONTROL        MODIFIER\tMODIFIER\n",
      "PILOT OPERATED DIRECTIONAL CONTROLSTANDARDIZED_VALUE_1\tSTANDARDIZED_VALUE_1\n",
      "- IN           STANDARDIZED_VALUE_2\tSTANDARDIZED_VALUE_2\n",
      "DIN W/O PLUG   STANDARDIZED_VALUE_3\tSTANDARDIZED_VALUE_3\n",
      "345 BAR/5000 PSISTANDARDIZED_VALUE_4\tSTANDARDIZED_VALUE_6\n",
      "SOLENOID WET PIN SCREW-INSTANDARDIZED_VALUE_7\tSTANDARDIZED_VALUE_7\n",
      "76 LPM 20 GPM  STANDARDIZED_VALUE_10\tSTANDARDIZED_VALUE_10\n",
      "NFPA           STANDARDIZED_VALUE_11\tSTANDARDIZED_VALUE_11\n",
      "4-WAY/3 POSITIONSTANDARDIZED_VALUE_13\tSTANDARDIZED_VALUE_13\n",
      "NITRILE        STANDARDIZED_VALUE_14\tSTANDARDIZED_VALUE_14\n",
      "CSA            STANDARDIZED_VALUE_16\tSTANDARDIZED_VALUE_16\n",
      "VOLTAGE:110/120 V FREQUENCY:50/60 HZSTANDARDIZED_VALUE_17\tSTANDARDIZED_VALUE_17\n",
      "92 IN          O\tO\n",
      "92 IN          O\tO\n",
      "92 IN          O\tO\n",
      "92 IN          O\tO\n",
      "92 IN          O\tO\n",
      "92 IN          O\tO\n",
      "92 IN          O\tO\n",
      "92 IN          O\tO\n",
      "92 IN          O\tO\n",
      "92 IN          O\tO\n",
      "92 IN          O\tO\n",
      "92 IN          O\tO\n",
      "92 IN          O\tO\n",
      "92 IN          O\tO\n"
     ]
    }
   ],
   "source": [
    "i = np.random.randint(0, x_test.shape[0]) #659\n",
    "p = model.predict(np.array([x_test[i]]))\n",
    "p = np.argmax(p, axis=-1)\n",
    "y_true = y_test[i]\n",
    "print(\"{:15}{:5}\\t {}\\n\".format(\"Word\", \"True\", \"Pred\"))\n",
    "print(\"-\" *30)\n",
    "for w, true, pred in zip(x_test[i], y_true, p[0]):\n",
    "    print(\"{:15}{}\\t{}\".format(words[w-1], tags[true], tags[pred]))"
   ]
  },
  {
   "cell_type": "code",
   "execution_count": null,
   "metadata": {},
   "outputs": [],
   "source": []
  }
 ],
 "metadata": {
  "kernelspec": {
   "display_name": "Python 3",
   "language": "python",
   "name": "python3"
  },
  "language_info": {
   "codemirror_mode": {
    "name": "ipython",
    "version": 3
   },
   "file_extension": ".py",
   "mimetype": "text/x-python",
   "name": "python",
   "nbconvert_exporter": "python",
   "pygments_lexer": "ipython3",
   "version": "3.7.6"
  }
 },
 "nbformat": 4,
 "nbformat_minor": 4
}
